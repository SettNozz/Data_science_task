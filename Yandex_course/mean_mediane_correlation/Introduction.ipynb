{
 "cells": [
  {
   "cell_type": "code",
   "execution_count": 218,
   "metadata": {
    "collapsed": false,
    "deletable": true,
    "editable": true
   },
   "outputs": [],
   "source": [
    "import pandas as pd\n",
    "import math as m\n",
    "from scipy.stats.stats import pearsonr\n",
    "from collections import Counter\n",
    "import re"
   ]
  },
  {
   "cell_type": "code",
   "execution_count": 219,
   "metadata": {
    "collapsed": true,
    "deletable": true,
    "editable": true
   },
   "outputs": [],
   "source": [
    "data = pd.read_csv('titanic.csv', index_col='PassengerId')"
   ]
  },
  {
   "cell_type": "code",
   "execution_count": 220,
   "metadata": {
    "collapsed": false,
    "deletable": true,
    "editable": true
   },
   "outputs": [
    {
     "name": "stdout",
     "output_type": "stream",
     "text": [
      "Male:  577\n",
      "Female: 314\n"
     ]
    }
   ],
   "source": [
    "male = [i for i in data['Sex'] if i == 'male']\n",
    "print 'Male: ', len(male)\n",
    "female = [i for i in data['Sex'] if i == 'female']\n",
    "print 'Female:', len(female)"
   ]
  },
  {
   "cell_type": "code",
   "execution_count": 221,
   "metadata": {
    "collapsed": false,
    "deletable": true,
    "editable": true
   },
   "outputs": [
    {
     "name": "stdout",
     "output_type": "stream",
     "text": [
      "Alive is:  20.0 % of all passengers\n"
     ]
    }
   ],
   "source": [
    "surv = data['Survived'].value_counts()\n",
    "alive = float(len(data['Survived']) / surv[1])\n",
    "print 'Alive is: ', alive*10, '% of all passengers'"
   ]
  },
  {
   "cell_type": "code",
   "execution_count": 222,
   "metadata": {
    "collapsed": false,
    "deletable": true,
    "editable": true
   },
   "outputs": [
    {
     "name": "stdout",
     "output_type": "stream",
     "text": [
      "First class passangers is:  40.0 % of all passengers\n"
     ]
    }
   ],
   "source": [
    "classes = data['Pclass'].value_counts()\n",
    "first_class = float(len(data['Pclass']) / classes[1])\n",
    "print 'First class passangers is: ', first_class*10, '% of all passengers'"
   ]
  },
  {
   "cell_type": "code",
   "execution_count": 223,
   "metadata": {
    "collapsed": false,
    "deletable": true,
    "editable": true
   },
   "outputs": [
    {
     "name": "stdout",
     "output_type": "stream",
     "text": [
      "Mean age of passengers is:  29.0\n",
      "Median of passengers age is:  28.0\n"
     ]
    }
   ],
   "source": [
    "age_of_all = data['Age']\n",
    "print 'Mean age of passengers is: ', m.floor(age_of_all.mean())\n",
    "print 'Median of passengers age is: ', age_of_all.median()"
   ]
  },
  {
   "cell_type": "code",
   "execution_count": 224,
   "metadata": {
    "collapsed": false,
    "deletable": true,
    "editable": true
   },
   "outputs": [
    {
     "name": "stdout",
     "output_type": "stream",
     "text": [
      "Coefficient of Spearman correlation is:  0.41\n"
     ]
    }
   ],
   "source": [
    "pears_corr = pearsonr(data['SibSp'], data['Parch'])\n",
    "print 'Coefficient of Spearman correlation is: ', round(pears_corr[0], 2)"
   ]
  },
  {
   "cell_type": "code",
   "execution_count": 226,
   "metadata": {
    "collapsed": false,
    "deletable": true,
    "editable": true
   },
   "outputs": [
    {
     "name": "stdout",
     "output_type": "stream",
     "text": [
      "Most common name is:  Andersson, it exist  9 times\n"
     ]
    }
   ],
   "source": [
    "names = data['Name']\n",
    "list_of_names = []\n",
    "list_of_split_names = []\n",
    "for i in names:\n",
    "    list_of_names.append(i)\n",
    "for i in list_of_names:\n",
    "    list_of_split_names.append(i.split()[0])\n",
    "name_com = Counter(list_of_split_names).most_common(1)\n",
    "print 'Most common name is: ', name_com[0][0], 'it exist ', name_com[0][1], 'times'"
   ]
  },
  {
   "cell_type": "code",
   "execution_count": null,
   "metadata": {
    "collapsed": true,
    "deletable": true,
    "editable": true
   },
   "outputs": [],
   "source": []
  }
 ],
 "metadata": {
  "kernelspec": {
   "display_name": "Python 2",
   "language": "python",
   "name": "python2"
  },
  "language_info": {
   "codemirror_mode": {
    "name": "ipython",
    "version": 2
   },
   "file_extension": ".py",
   "mimetype": "text/x-python",
   "name": "python",
   "nbconvert_exporter": "python",
   "pygments_lexer": "ipython2",
   "version": "2.7.12"
  }
 },
 "nbformat": 4,
 "nbformat_minor": 2
}
